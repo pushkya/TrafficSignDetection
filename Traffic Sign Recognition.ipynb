{
 "cells": [
  {
   "cell_type": "code",
   "execution_count": 1,
   "id": "global-atmosphere",
   "metadata": {},
   "outputs": [],
   "source": [
    "import pickle\n",
    "from keras.utils import to_categorical\n",
    "import cv2 \n",
    "import numpy as np\n",
    "\n",
    "train = 'train.p'\n",
    "valid = 'valid.p'\n",
    "test  = 'test.p'\n",
    "\n",
    "with open(train, mode='rb') as f:\n",
    "    train = pickle.load(f)\n",
    "with open(valid, mode='rb') as f:\n",
    "    valid = pickle.load(f)\n",
    "with open(test, mode='rb') as f:\n",
    "    test = pickle.load(f)\n",
    "    \n",
    "X_train, y_train = train['features'], train['labels']\n",
    "X_valid, y_valid = valid['features'], valid['labels']\n",
    "X_test, y_test = test['features'], test['labels']\n",
    "\n",
    "y_train=to_categorical(y_train)\n",
    "y_valid=to_categorical(y_valid)\n",
    "y_test=to_categorical(y_test)\n",
    "\n"
   ]
  },
  {
   "cell_type": "code",
   "execution_count": 2,
   "id": "juvenile-toner",
   "metadata": {},
   "outputs": [],
   "source": [
    "def preprocessing(img): \n",
    "    img = cv2.cvtColor(img, cv2.COLOR_BGR2GRAY) \n",
    "    img = cv2.equalizeHist(img) \n",
    "    img = img / 255\n",
    "    return img \n",
    "  \n",
    "X_train = np.array(list(map(preprocessing, X_train))) \n",
    "X_valid = np.array(list(map(preprocessing, X_valid))) \n",
    "X_test = np.array(list(map(preprocessing, X_test))) \n",
    "  \n",
    "X_train = X_train.reshape(34799, 32, 32, 1) \n",
    "X_valid = X_valid.reshape(4410, 32, 32, 1) \n",
    "X_test = X_test.reshape(12630, 32, 32, 1)"
   ]
  },
  {
   "cell_type": "code",
   "execution_count": 3,
   "id": "extraordinary-hamburg",
   "metadata": {},
   "outputs": [
    {
     "name": "stdout",
     "output_type": "stream",
     "text": [
      "((34799, 32, 32, 1), (34799, 43))\n",
      "((4410, 32, 32, 1), (4410, 43))\n",
      "((12630, 32, 32, 1), (12630, 43))\n"
     ]
    }
   ],
   "source": [
    "print((X_train.shape,y_train.shape))\n",
    "print((X_valid.shape,y_valid.shape))\n",
    "print((X_test.shape,y_test.shape))"
   ]
  },
  {
   "cell_type": "code",
   "execution_count": 9,
   "id": "initial-neighbor",
   "metadata": {},
   "outputs": [
    {
     "name": "stdout",
     "output_type": "stream",
     "text": [
      "Model: \"sequential_1\"\n",
      "_________________________________________________________________\n",
      "Layer (type)                 Output Shape              Param #   \n",
      "=================================================================\n",
      "conv2d_5 (Conv2D)            (None, 8, 8, 96)          11712     \n",
      "_________________________________________________________________\n",
      "batch_normalization_9 (Batch (None, 8, 8, 96)          384       \n",
      "_________________________________________________________________\n",
      "activation_9 (Activation)    (None, 8, 8, 96)          0         \n",
      "_________________________________________________________________\n",
      "max_pooling2d_3 (MaxPooling2 (None, 4, 4, 96)          0         \n",
      "_________________________________________________________________\n",
      "conv2d_6 (Conv2D)            (None, 4, 4, 256)         614656    \n",
      "_________________________________________________________________\n",
      "batch_normalization_10 (Batc (None, 4, 4, 256)         1024      \n",
      "_________________________________________________________________\n",
      "activation_10 (Activation)   (None, 4, 4, 256)         0         \n",
      "_________________________________________________________________\n",
      "max_pooling2d_4 (MaxPooling2 (None, 2, 2, 256)         0         \n",
      "_________________________________________________________________\n",
      "conv2d_7 (Conv2D)            (None, 2, 2, 384)         885120    \n",
      "_________________________________________________________________\n",
      "batch_normalization_11 (Batc (None, 2, 2, 384)         1536      \n",
      "_________________________________________________________________\n",
      "activation_11 (Activation)   (None, 2, 2, 384)         0         \n",
      "_________________________________________________________________\n",
      "conv2d_8 (Conv2D)            (None, 2, 2, 384)         1327488   \n",
      "_________________________________________________________________\n",
      "batch_normalization_12 (Batc (None, 2, 2, 384)         1536      \n",
      "_________________________________________________________________\n",
      "activation_12 (Activation)   (None, 2, 2, 384)         0         \n",
      "_________________________________________________________________\n",
      "conv2d_9 (Conv2D)            (None, 2, 2, 256)         884992    \n",
      "_________________________________________________________________\n",
      "batch_normalization_13 (Batc (None, 2, 2, 256)         1024      \n",
      "_________________________________________________________________\n",
      "activation_13 (Activation)   (None, 2, 2, 256)         0         \n",
      "_________________________________________________________________\n",
      "max_pooling2d_5 (MaxPooling2 (None, 1, 1, 256)         0         \n",
      "_________________________________________________________________\n",
      "flatten_1 (Flatten)          (None, 256)               0         \n",
      "_________________________________________________________________\n",
      "dense_4 (Dense)              (None, 4096)              1052672   \n",
      "_________________________________________________________________\n",
      "batch_normalization_14 (Batc (None, 4096)              16384     \n",
      "_________________________________________________________________\n",
      "activation_14 (Activation)   (None, 4096)              0         \n",
      "_________________________________________________________________\n",
      "dropout_3 (Dropout)          (None, 4096)              0         \n",
      "_________________________________________________________________\n",
      "dense_5 (Dense)              (None, 4096)              16781312  \n",
      "_________________________________________________________________\n",
      "batch_normalization_15 (Batc (None, 4096)              16384     \n",
      "_________________________________________________________________\n",
      "activation_15 (Activation)   (None, 4096)              0         \n",
      "_________________________________________________________________\n",
      "dropout_4 (Dropout)          (None, 4096)              0         \n",
      "_________________________________________________________________\n",
      "dense_6 (Dense)              (None, 1000)              4097000   \n",
      "_________________________________________________________________\n",
      "batch_normalization_16 (Batc (None, 1000)              4000      \n",
      "_________________________________________________________________\n",
      "activation_16 (Activation)   (None, 1000)              0         \n",
      "_________________________________________________________________\n",
      "dropout_5 (Dropout)          (None, 1000)              0         \n",
      "_________________________________________________________________\n",
      "dense_7 (Dense)              (None, 43)                43043     \n",
      "_________________________________________________________________\n",
      "batch_normalization_17 (Batc (None, 43)                172       \n",
      "_________________________________________________________________\n",
      "activation_17 (Activation)   (None, 43)                0         \n",
      "=================================================================\n",
      "Total params: 25,740,439\n",
      "Trainable params: 25,719,217\n",
      "Non-trainable params: 21,222\n",
      "_________________________________________________________________\n"
     ]
    }
   ],
   "source": [
    "import tensorflow.keras\n",
    "import keras\n",
    "from tensorflow.keras.models import Sequential\n",
    "from tensorflow.keras.layers import Dense, Activation, Dropout, Flatten,\\\n",
    " Conv2D, MaxPooling2D,BatchNormalization\n",
    "\n",
    "#Instantiation\n",
    "AlexNet = Sequential()\n",
    "\n",
    "#1st Convolutional Layer\n",
    "AlexNet.add(Conv2D(filters=96, input_shape=(32,32,1), kernel_size=(11,11), strides=(4,4), padding='same'))\n",
    "AlexNet.add(BatchNormalization())\n",
    "AlexNet.add(Activation('relu'))\n",
    "AlexNet.add(MaxPooling2D(pool_size=(2,2), strides=(2,2), padding='same'))\n",
    "\n",
    "#2nd Convolutional Layer\n",
    "AlexNet.add(Conv2D(filters=256, kernel_size=(5, 5), strides=(1,1), padding='same'))\n",
    "AlexNet.add(BatchNormalization())\n",
    "AlexNet.add(Activation('relu'))\n",
    "AlexNet.add(MaxPooling2D(pool_size=(2,2), strides=(2,2), padding='same'))\n",
    "\n",
    "#3rd Convolutional Layer\n",
    "AlexNet.add(Conv2D(filters=384, kernel_size=(3,3), strides=(1,1), padding='same'))\n",
    "AlexNet.add(BatchNormalization())\n",
    "AlexNet.add(Activation('relu'))\n",
    "\n",
    "#4th Convolutional Layer\n",
    "AlexNet.add(Conv2D(filters=384, kernel_size=(3,3), strides=(1,1), padding='same'))\n",
    "AlexNet.add(BatchNormalization())\n",
    "AlexNet.add(Activation('relu'))\n",
    "\n",
    "#5th Convolutional Layer\n",
    "AlexNet.add(Conv2D(filters=256, kernel_size=(3,3), strides=(1,1), padding='same'))\n",
    "AlexNet.add(BatchNormalization())\n",
    "AlexNet.add(Activation('relu'))\n",
    "AlexNet.add(MaxPooling2D(pool_size=(2,2), strides=(2,2), padding='same'))\n",
    "\n",
    "#Passing it to a Fully Connected layer\n",
    "AlexNet.add(Flatten())\n",
    "# 1st Fully Connected Layer\n",
    "AlexNet.add(Dense(4096, input_shape=(32,32,1,)))\n",
    "AlexNet.add(BatchNormalization())\n",
    "AlexNet.add(Activation('relu'))\n",
    "# Add Dropout to prevent overfitting\n",
    "AlexNet.add(Dropout(0.4))\n",
    "\n",
    "#2nd Fully Connected Layer\n",
    "AlexNet.add(Dense(4096))\n",
    "AlexNet.add(BatchNormalization())\n",
    "AlexNet.add(Activation('relu'))\n",
    "#Add Dropout\n",
    "AlexNet.add(Dropout(0.4))\n",
    "\n",
    "#3rd Fully Connected Layer\n",
    "AlexNet.add(Dense(1000))\n",
    "AlexNet.add(BatchNormalization())\n",
    "AlexNet.add(Activation('relu'))\n",
    "#Add Dropout\n",
    "AlexNet.add(Dropout(0.4))\n",
    "\n",
    "#Output Layer\n",
    "AlexNet.add(Dense(43))\n",
    "AlexNet.add(BatchNormalization())\n",
    "AlexNet.add(Activation('softmax'))\n",
    "\n",
    "#Model Summary\n",
    "AlexNet.summary()"
   ]
  },
  {
   "cell_type": "code",
   "execution_count": 10,
   "id": "statewide-responsibility",
   "metadata": {},
   "outputs": [],
   "source": [
    "AlexNet.compile(loss = 'categorical_crossentropy', optimizer= 'adam', metrics=['accuracy'])"
   ]
  },
  {
   "cell_type": "code",
   "execution_count": 11,
   "id": "religious-companion",
   "metadata": {},
   "outputs": [],
   "source": [
    "from keras.callbacks import ReduceLROnPlateau\n",
    "lrr= ReduceLROnPlateau(   monitor='val_accuracy',   factor=.01,   patience=3,  min_lr=1e-5)"
   ]
  },
  {
   "cell_type": "code",
   "execution_count": 12,
   "id": "alive-solomon",
   "metadata": {},
   "outputs": [],
   "source": [
    "#Defining the parameters\n",
    "batch_size= 128\n",
    "epochs=30\n",
    "learn_rate=.001\n"
   ]
  },
  {
   "cell_type": "code",
   "execution_count": 13,
   "id": "sacred-eight",
   "metadata": {},
   "outputs": [
    {
     "name": "stdout",
     "output_type": "stream",
     "text": [
      "Epoch 1/30\n",
      "272/272 [==============================] - 158s 574ms/step - loss: 2.2838 - accuracy: 0.4459 - val_loss: 3.9346 - val_accuracy: 0.0340\n",
      "Epoch 2/30\n",
      "272/272 [==============================] - 159s 586ms/step - loss: 0.6303 - accuracy: 0.8733 - val_loss: 3.5218 - val_accuracy: 0.1304\n",
      "Epoch 3/30\n",
      "272/272 [==============================] - 163s 599ms/step - loss: 0.3887 - accuracy: 0.9227 - val_loss: 3.1265 - val_accuracy: 0.2585\n",
      "Epoch 4/30\n",
      "272/272 [==============================] - 154s 568ms/step - loss: 0.2753 - accuracy: 0.9465 - val_loss: 2.9098 - val_accuracy: 0.3079\n",
      "Epoch 5/30\n",
      "272/272 [==============================] - 153s 563ms/step - loss: 0.2266 - accuracy: 0.9533 - val_loss: 3.1466 - val_accuracy: 0.2363\n",
      "Epoch 6/30\n",
      "272/272 [==============================] - 157s 578ms/step - loss: 0.1742 - accuracy: 0.9632 - val_loss: 3.9467 - val_accuracy: 0.1354\n",
      "Epoch 7/30\n",
      "272/272 [==============================] - 154s 567ms/step - loss: 0.1606 - accuracy: 0.9647 - val_loss: 3.0632 - val_accuracy: 0.2222\n",
      "Epoch 8/30\n",
      "272/272 [==============================] - 153s 561ms/step - loss: 0.1194 - accuracy: 0.9772 - val_loss: 0.3796 - val_accuracy: 0.8961\n",
      "Epoch 9/30\n",
      "272/272 [==============================] - 155s 569ms/step - loss: 0.0830 - accuracy: 0.9883 - val_loss: 0.3726 - val_accuracy: 0.9023\n",
      "Epoch 10/30\n",
      "272/272 [==============================] - 157s 577ms/step - loss: 0.0724 - accuracy: 0.9915 - val_loss: 0.3594 - val_accuracy: 0.9052\n",
      "Epoch 11/30\n",
      "272/272 [==============================] - 156s 575ms/step - loss: 0.0707 - accuracy: 0.9914 - val_loss: 0.3463 - val_accuracy: 0.9095\n",
      "Epoch 12/30\n",
      "272/272 [==============================] - 156s 575ms/step - loss: 0.0635 - accuracy: 0.9930 - val_loss: 0.3462 - val_accuracy: 0.9120\n",
      "Epoch 13/30\n",
      "272/272 [==============================] - 155s 571ms/step - loss: 0.0619 - accuracy: 0.9936 - val_loss: 0.3357 - val_accuracy: 0.9141\n",
      "Epoch 14/30\n",
      "272/272 [==============================] - 167s 615ms/step - loss: 0.0595 - accuracy: 0.9947 - val_loss: 0.3395 - val_accuracy: 0.9136\n",
      "Epoch 15/30\n",
      "272/272 [==============================] - 158s 580ms/step - loss: 0.0575 - accuracy: 0.9947 - val_loss: 0.3369 - val_accuracy: 0.9134\n",
      "Epoch 16/30\n",
      "272/272 [==============================] - 154s 566ms/step - loss: 0.0561 - accuracy: 0.9947 - val_loss: 0.3498 - val_accuracy: 0.9091\n",
      "Epoch 17/30\n",
      "272/272 [==============================] - 156s 574ms/step - loss: 0.0531 - accuracy: 0.9959 - val_loss: 0.3283 - val_accuracy: 0.9161\n",
      "Epoch 18/30\n",
      "272/272 [==============================] - 156s 574ms/step - loss: 0.0515 - accuracy: 0.9958 - val_loss: 0.3387 - val_accuracy: 0.9122\n",
      "Epoch 19/30\n",
      "272/272 [==============================] - 155s 570ms/step - loss: 0.0517 - accuracy: 0.9962 - val_loss: 0.3238 - val_accuracy: 0.9186\n",
      "Epoch 20/30\n",
      "272/272 [==============================] - 154s 567ms/step - loss: 0.0502 - accuracy: 0.9954 - val_loss: 0.3368 - val_accuracy: 0.9152\n",
      "Epoch 21/30\n",
      "272/272 [==============================] - 158s 580ms/step - loss: 0.0477 - accuracy: 0.9960 - val_loss: 0.3239 - val_accuracy: 0.9181\n",
      "Epoch 22/30\n",
      "272/272 [==============================] - 156s 572ms/step - loss: 0.0475 - accuracy: 0.9967 - val_loss: 0.3376 - val_accuracy: 0.9156\n",
      "Epoch 23/30\n",
      "272/272 [==============================] - 154s 566ms/step - loss: 0.0475 - accuracy: 0.9970 - val_loss: 0.3390 - val_accuracy: 0.9156\n",
      "Epoch 24/30\n",
      "272/272 [==============================] - 154s 568ms/step - loss: 0.0454 - accuracy: 0.9973 - val_loss: 0.3395 - val_accuracy: 0.9156\n",
      "Epoch 25/30\n",
      "272/272 [==============================] - 160s 590ms/step - loss: 0.0457 - accuracy: 0.9973 - val_loss: 0.3293 - val_accuracy: 0.9152\n",
      "Epoch 26/30\n",
      "272/272 [==============================] - 155s 568ms/step - loss: 0.0406 - accuracy: 0.9979 - val_loss: 0.3287 - val_accuracy: 0.9170\n",
      "Epoch 27/30\n",
      "272/272 [==============================] - 155s 570ms/step - loss: 0.0436 - accuracy: 0.9969 - val_loss: 0.3284 - val_accuracy: 0.9152\n",
      "Epoch 28/30\n",
      "272/272 [==============================] - 154s 567ms/step - loss: 0.0426 - accuracy: 0.9972 - val_loss: 0.3321 - val_accuracy: 0.9141\n",
      "Epoch 29/30\n",
      "272/272 [==============================] - 157s 578ms/step - loss: 0.0407 - accuracy: 0.9979 - val_loss: 0.3310 - val_accuracy: 0.9166\n",
      "Epoch 30/30\n",
      "272/272 [==============================] - 156s 573ms/step - loss: 0.0400 - accuracy: 0.9982 - val_loss: 0.3674 - val_accuracy: 0.9061\n"
     ]
    }
   ],
   "source": [
    "#Training the model\n",
    "train = AlexNet.fit(X_train, y_train, validation_data=(X_valid, y_valid), epochs=epochs, batch_size=batch_size, verbose=1, callbacks = [lrr])"
   ]
  },
  {
   "cell_type": "code",
   "execution_count": 14,
   "id": "collectible-might",
   "metadata": {},
   "outputs": [
    {
     "name": "stderr",
     "output_type": "stream",
     "text": [
      "C:\\Users\\Pushkar\\anaconda3\\lib\\site-packages\\tensorflow\\python\\keras\\engine\\sequential.py:450: UserWarning: `model.predict_classes()` is deprecated and will be removed after 2021-01-01. Please use instead:* `np.argmax(model.predict(x), axis=-1)`,   if your model does multi-class classification   (e.g. if it uses a `softmax` last-layer activation).* `(model.predict(x) > 0.5).astype(\"int32\")`,   if your model does binary classification   (e.g. if it uses a `sigmoid` last-layer activation).\n",
      "  warnings.warn('`model.predict_classes()` is deprecated and '\n"
     ]
    },
    {
     "name": "stdout",
     "output_type": "stream",
     "text": [
      "Accuracy Score =  0.8935075217735551\n"
     ]
    }
   ],
   "source": [
    "from sklearn.metrics import accuracy_score\n",
    "import numpy as np\n",
    "y_pred=AlexNet.predict_classes(X_test)\n",
    "y_true=np.argmax(y_test,axis=1)\n",
    "acc_score = accuracy_score(y_true, y_pred)\n",
    "print('Accuracy Score = ', acc_score)"
   ]
  },
  {
   "cell_type": "code",
   "execution_count": 15,
   "id": "unlikely-bracelet",
   "metadata": {},
   "outputs": [],
   "source": [
    "from keras.models import load_model\n",
    "AlexNet.save(\"alexnet.h5\")\n"
   ]
  },
  {
   "cell_type": "code",
   "execution_count": 16,
   "id": "strange-ukraine",
   "metadata": {},
   "outputs": [],
   "source": [
    "model = Sequential()\n",
    "model.add(Conv2D(32,(3,3), input_shape = (32, 32, 1), activation = 'relu'))\n",
    "model.add(Flatten())\n",
    "model.add(Dense(43, activation = 'softmax'))"
   ]
  },
  {
   "cell_type": "code",
   "execution_count": 17,
   "id": "environmental-ranking",
   "metadata": {},
   "outputs": [],
   "source": [
    "model.compile(loss = 'categorical_crossentropy', optimizer = 'adam', metrics = 'accuracy')"
   ]
  },
  {
   "cell_type": "code",
   "execution_count": 18,
   "id": "declared-minutes",
   "metadata": {},
   "outputs": [
    {
     "name": "stdout",
     "output_type": "stream",
     "text": [
      "Model: \"sequential_2\"\n",
      "_________________________________________________________________\n",
      "Layer (type)                 Output Shape              Param #   \n",
      "=================================================================\n",
      "conv2d_10 (Conv2D)           (None, 30, 30, 32)        320       \n",
      "_________________________________________________________________\n",
      "flatten_2 (Flatten)          (None, 28800)             0         \n",
      "_________________________________________________________________\n",
      "dense_8 (Dense)              (None, 43)                1238443   \n",
      "=================================================================\n",
      "Total params: 1,238,763\n",
      "Trainable params: 1,238,763\n",
      "Non-trainable params: 0\n",
      "_________________________________________________________________\n"
     ]
    }
   ],
   "source": [
    "model.summary()"
   ]
  },
  {
   "cell_type": "code",
   "execution_count": 19,
   "id": "numeric-smith",
   "metadata": {},
   "outputs": [
    {
     "name": "stdout",
     "output_type": "stream",
     "text": [
      "Epoch 1/30\n",
      "272/272 [==============================] - 6s 22ms/step - loss: 1.8732 - accuracy: 0.5319 - val_loss: 0.7072 - val_accuracy: 0.7957\n",
      "Epoch 2/30\n",
      "272/272 [==============================] - 6s 20ms/step - loss: 0.3197 - accuracy: 0.9226 - val_loss: 0.5910 - val_accuracy: 0.8379\n",
      "Epoch 3/30\n",
      "272/272 [==============================] - 6s 20ms/step - loss: 0.1717 - accuracy: 0.9622 - val_loss: 0.5299 - val_accuracy: 0.8556\n",
      "Epoch 4/30\n",
      "272/272 [==============================] - 6s 20ms/step - loss: 0.1058 - accuracy: 0.9769 - val_loss: 0.5142 - val_accuracy: 0.8628\n",
      "Epoch 5/30\n",
      "272/272 [==============================] - 6s 20ms/step - loss: 0.0712 - accuracy: 0.9867 - val_loss: 0.5149 - val_accuracy: 0.8621\n",
      "Epoch 6/30\n",
      "272/272 [==============================] - 5s 20ms/step - loss: 0.0551 - accuracy: 0.9894 - val_loss: 0.5356 - val_accuracy: 0.8698\n",
      "Epoch 7/30\n",
      "272/272 [==============================] - 5s 20ms/step - loss: 0.0369 - accuracy: 0.9922 - val_loss: 0.5386 - val_accuracy: 0.8678\n",
      "Epoch 8/30\n",
      "272/272 [==============================] - 6s 20ms/step - loss: 0.0279 - accuracy: 0.9959 - val_loss: 0.5490 - val_accuracy: 0.8744\n",
      "Epoch 9/30\n",
      "272/272 [==============================] - 5s 20ms/step - loss: 0.0215 - accuracy: 0.9973 - val_loss: 0.5651 - val_accuracy: 0.8732\n",
      "Epoch 10/30\n",
      "272/272 [==============================] - 6s 20ms/step - loss: 0.0169 - accuracy: 0.9981 - val_loss: 0.5786 - val_accuracy: 0.8687\n",
      "Epoch 11/30\n",
      "272/272 [==============================] - 6s 20ms/step - loss: 0.0130 - accuracy: 0.9988 - val_loss: 0.5758 - val_accuracy: 0.8762\n",
      "Epoch 12/30\n",
      "272/272 [==============================] - 6s 20ms/step - loss: 0.0088 - accuracy: 0.9994 - val_loss: 0.5868 - val_accuracy: 0.8703\n",
      "Epoch 13/30\n",
      "272/272 [==============================] - 6s 20ms/step - loss: 0.0076 - accuracy: 0.9995 - val_loss: 0.6378 - val_accuracy: 0.8658\n",
      "Epoch 14/30\n",
      "272/272 [==============================] - 6s 21ms/step - loss: 0.0084 - accuracy: 0.9988 - val_loss: 0.6032 - val_accuracy: 0.8741\n",
      "Epoch 15/30\n",
      "272/272 [==============================] - 5s 20ms/step - loss: 0.0051 - accuracy: 0.9997 - val_loss: 0.6155 - val_accuracy: 0.8741\n",
      "Epoch 16/30\n",
      "272/272 [==============================] - 6s 21ms/step - loss: 0.0049 - accuracy: 0.9996 - val_loss: 0.6398 - val_accuracy: 0.8753\n",
      "Epoch 17/30\n",
      "272/272 [==============================] - 6s 21ms/step - loss: 0.0030 - accuracy: 0.9999 - val_loss: 0.6359 - val_accuracy: 0.8739\n",
      "Epoch 18/30\n",
      "272/272 [==============================] - 6s 21ms/step - loss: 0.0023 - accuracy: 1.0000 - val_loss: 0.6507 - val_accuracy: 0.8771\n",
      "Epoch 19/30\n",
      "272/272 [==============================] - 6s 21ms/step - loss: 0.0017 - accuracy: 1.0000 - val_loss: 0.6592 - val_accuracy: 0.8735\n",
      "Epoch 20/30\n",
      "272/272 [==============================] - 5s 20ms/step - loss: 0.0016 - accuracy: 1.0000 - val_loss: 0.6672 - val_accuracy: 0.8805\n",
      "Epoch 21/30\n",
      "272/272 [==============================] - 5s 20ms/step - loss: 0.0017 - accuracy: 0.9999 - val_loss: 0.6828 - val_accuracy: 0.8687\n",
      "Epoch 22/30\n",
      "272/272 [==============================] - 6s 21ms/step - loss: 0.0622 - accuracy: 0.9815 - val_loss: 0.7874 - val_accuracy: 0.8567\n",
      "Epoch 23/30\n",
      "272/272 [==============================] - 5s 20ms/step - loss: 0.0120 - accuracy: 0.9972 - val_loss: 0.7645 - val_accuracy: 0.8635\n",
      "Epoch 24/30\n",
      "272/272 [==============================] - 5s 20ms/step - loss: 0.0049 - accuracy: 0.9991 - val_loss: 0.7474 - val_accuracy: 0.8800\n",
      "Epoch 25/30\n",
      "272/272 [==============================] - 6s 21ms/step - loss: 0.0014 - accuracy: 1.0000 - val_loss: 0.7496 - val_accuracy: 0.8834\n",
      "Epoch 26/30\n",
      "272/272 [==============================] - 5s 20ms/step - loss: 9.5324e-04 - accuracy: 1.0000 - val_loss: 0.7684 - val_accuracy: 0.8841\n",
      "Epoch 27/30\n",
      "272/272 [==============================] - 5s 20ms/step - loss: 7.6274e-04 - accuracy: 1.0000 - val_loss: 0.7812 - val_accuracy: 0.8841\n",
      "Epoch 28/30\n",
      "272/272 [==============================] - 6s 20ms/step - loss: 6.4207e-04 - accuracy: 1.0000 - val_loss: 0.7946 - val_accuracy: 0.8844\n",
      "Epoch 29/30\n",
      "272/272 [==============================] - 5s 20ms/step - loss: 5.3951e-04 - accuracy: 1.0000 - val_loss: 0.8047 - val_accuracy: 0.8837\n",
      "Epoch 30/30\n",
      "272/272 [==============================] - 5s 20ms/step - loss: 4.5299e-04 - accuracy: 1.0000 - val_loss: 0.8094 - val_accuracy: 0.8848\n"
     ]
    }
   ],
   "source": [
    "train = model.fit(X_train, y_train, validation_data=(X_valid, y_valid), epochs=30, batch_size=128, verbose=1)"
   ]
  },
  {
   "cell_type": "code",
   "execution_count": 20,
   "id": "martial-script",
   "metadata": {},
   "outputs": [
    {
     "name": "stdout",
     "output_type": "stream",
     "text": [
      "Accuracy Score =  0.8794140934283452\n"
     ]
    }
   ],
   "source": [
    "y_pred=model.predict_classes(X_test)\n",
    "y_true=np.argmax(y_test,axis=1)\n",
    "acc_score = accuracy_score(y_true, y_pred)\n",
    "print('Accuracy Score = ', acc_score)"
   ]
  },
  {
   "cell_type": "code",
   "execution_count": 21,
   "id": "diverse-plumbing",
   "metadata": {},
   "outputs": [],
   "source": [
    "model.save('cnn.h5')"
   ]
  },
  {
   "cell_type": "code",
   "execution_count": 22,
   "id": "perfect-optics",
   "metadata": {},
   "outputs": [],
   "source": [
    "AlexNet.load_weights(\"alexnet.h5\")\n",
    "AlexNet.compile(loss='categorical_crossentropy', optimizer='adam', metrics=['accuracy'])"
   ]
  },
  {
   "cell_type": "code",
   "execution_count": 23,
   "id": "curious-spirit",
   "metadata": {},
   "outputs": [
    {
     "name": "stdout",
     "output_type": "stream",
     "text": [
      "Results on the test data\n",
      " \n",
      "loss- 0.44\n",
      "accuracy- 0.89\n"
     ]
    }
   ],
   "source": [
    "Pred_conv = AlexNet.evaluate(X_test, y_test, verbose=0)\n",
    "print(\"Results on the test data\")\n",
    "print(\" \")\n",
    "print(\"%s- %.2f\" % (AlexNet.metrics_names[0], Pred_conv[0]))\n",
    "print(\"%s- %.2f\" % (AlexNet.metrics_names[1], Pred_conv[1]))"
   ]
  },
  {
   "cell_type": "code",
   "execution_count": 25,
   "id": "pharmaceutical-accounting",
   "metadata": {},
   "outputs": [
    {
     "name": "stdout",
     "output_type": "stream",
     "text": [
      "Predicted sign: [[1.8507036e-04 9.8659027e-01 2.6548994e-04 4.7572309e-04 3.6886332e-04\n",
      "  2.5950634e-04 1.9164804e-04 2.4779537e-04 4.4517475e-04 3.9723938e-04\n",
      "  5.7693769e-04 3.0160995e-04 4.7257368e-04 5.3792761e-04 3.4249597e-04\n",
      "  1.7740901e-04 2.3353734e-04 2.5054088e-04 6.1258831e-04 2.2550969e-04\n",
      "  2.7422118e-04 2.6316222e-04 2.0595864e-04 3.6460193e-04 3.1956742e-04\n",
      "  4.5771315e-04 2.2411525e-04 3.2875082e-04 2.5775959e-04 2.6182918e-04\n",
      "  2.5995867e-04 3.9027282e-04 3.8178117e-04 2.2885264e-04 2.2881772e-04\n",
      "  2.4708250e-04 2.0113314e-04 4.2853193e-04 4.7779936e-04 3.3205521e-04\n",
      "  1.6380571e-04 3.5445663e-04 1.8981782e-04]]\n",
      "---------------------------------------------------------------------------\n",
      "Predicted Sign[1]\n"
     ]
    },
    {
     "name": "stderr",
     "output_type": "stream",
     "text": [
      "C:\\Users\\Pushkar\\anaconda3\\lib\\site-packages\\tensorflow\\python\\keras\\engine\\sequential.py:450: UserWarning: `model.predict_classes()` is deprecated and will be removed after 2021-01-01. Please use instead:* `np.argmax(model.predict(x), axis=-1)`,   if your model does multi-class classification   (e.g. if it uses a `softmax` last-layer activation).* `(model.predict(x) > 0.5).astype(\"int32\")`,   if your model does binary classification   (e.g. if it uses a `sigmoid` last-layer activation).\n",
      "  warnings.warn('`model.predict_classes()` is deprecated and '\n"
     ]
    },
    {
     "data": {
      "image/png": "[encoded data removed]",
      "text/plain": [
       "<Figure size 432x288 with 1 Axes>"
      ]
     },
     "metadata": {
      "needs_background": "light"
     },
     "output_type": "display_data"
    }
   ],
   "source": [
    "import matplotlib.pyplot as plt\n",
    "plt.imshow(X_test[100]) \n",
    "print(\"Predicted sign: \"+ str( \n",
    "        AlexNet.predict(X_test[100].reshape(1, 32, 32, 1))))\n",
    "\n",
    "print('---------------------------------------------------------------------------')\n",
    "\n",
    "print(\"Predicted Sign\" + str(AlexNet.predict_classes(X_test[100].reshape(1, 32, 32, 1))))"
   ]
  },
  {
   "cell_type": "code",
   "execution_count": 26,
   "id": "operating-titanium",
   "metadata": {},
   "outputs": [],
   "source": [
    "model.load_weights(\"cnn.h5\")\n",
    "model.compile(loss='categorical_crossentropy', optimizer='adam', metrics=['accuracy'])"
   ]
  },
  {
   "cell_type": "code",
   "execution_count": 27,
   "id": "experienced-connecticut",
   "metadata": {},
   "outputs": [
    {
     "name": "stdout",
     "output_type": "stream",
     "text": [
      "Results on the test data\n",
      " \n",
      "loss- 0.92\n",
      "accuracy- 0.88\n"
     ]
    }
   ],
   "source": [
    "Pred_conv = model.evaluate(X_test, y_test, verbose=0)\n",
    "print(\"Results on the test data\")\n",
    "print(\" \")\n",
    "print(\"%s- %.2f\" % (model.metrics_names[0], Pred_conv[0]))\n",
    "print(\"%s- %.2f\" % (model.metrics_names[1], Pred_conv[1]))"
   ]
  },
  {
   "cell_type": "code",
   "execution_count": 29,
   "id": "premier-clearance",
   "metadata": {},
   "outputs": [
    {
     "name": "stdout",
     "output_type": "stream",
     "text": [
      "Predicted sign: [[9.2427795e-15 1.0000000e+00 5.4480087e-10 6.6493527e-23 5.3396341e-12\n",
      "  9.7066685e-20 1.0102144e-22 6.0598921e-17 2.6691042e-15 9.3678521e-26\n",
      "  8.5704585e-26 1.1638153e-21 9.0475163e-18 3.6928236e-25 1.6086846e-25\n",
      "  1.3289153e-22 1.6495773e-22 9.8729808e-24 7.5182924e-20 1.4514908e-26\n",
      "  4.7836024e-21 5.0386001e-19 2.0812495e-28 3.1533889e-26 7.0736557e-18\n",
      "  4.4783997e-26 1.7199712e-25 7.3532948e-21 1.0170978e-21 1.3016040e-19\n",
      "  4.6852267e-23 2.9083029e-15 1.5259157e-25 4.9317116e-26 1.8817815e-27\n",
      "  2.5007949e-34 4.9501323e-31 4.4601156e-22 2.0727774e-30 2.0298178e-24\n",
      "  1.2631052e-09 3.9953351e-31 6.3901058e-24]]\n",
      "---------------------------------------------------------------------------\n",
      "Predicted Sign[1]\n"
     ]
    },
    {
     "data": {
      "image/png": "[encoded data removed]",
      "text/plain": [
       "<Figure size 432x288 with 1 Axes>"
      ]
     },
     "metadata": {
      "needs_background": "light"
     },
     "output_type": "display_data"
    }
   ],
   "source": [
    "import matplotlib.pyplot as plt\n",
    "plt.imshow(X_test[100]) \n",
    "print(\"Predicted sign: \"+ str( \n",
    "        model.predict(X_test[100].reshape(1, 32, 32, 1))))\n",
    "\n",
    "print('---------------------------------------------------------------------------')\n",
    "\n",
    "print(\"Predicted Sign\" + str(model.predict_classes(X_test[100].reshape(1, 32, 32, 1))))"
   ]
  },
  {
   "cell_type": "code",
   "execution_count": 30,
   "id": "frequent-duration",
   "metadata": {},
   "outputs": [
    {
     "name": "stdout",
     "output_type": "stream",
     "text": [
      "[[1.         1.         1.         ... 1.         1.         1.        ]\n",
      " [1.         1.         1.         ... 0.91363358 0.99779412 1.        ]\n",
      " [1.         1.         0.97411152 ... 1.         0.99842218 1.        ]\n",
      " ...\n",
      " [1.         0.9459712  1.         ... 0.99609375 1.         1.        ]\n",
      " [1.         1.         0.99888174 ... 1.         1.         1.        ]\n",
      " [1.         1.         1.         ... 1.         1.         1.        ]]\n",
      "[6]\n"
     ]
    }
   ],
   "source": [
    "from tensorflow.keras.models import load_model\n",
    "\n",
    "import cv2\n",
    "\n",
    "import numpy as np\n",
    "\n",
    "final_model = load_model('cnn.h5')\n",
    "\n",
    "img = cv2.imread(r\".\\Test Random Images\\80 ends.jpg\")\n",
    "#print(img)\n",
    "\n",
    "img = cv2.cvtColor(img, cv2.COLOR_BGR2GRAY) \n",
    "\n",
    "img = img/ 255\n",
    "#print(img)\n",
    "\n",
    "img = cv2.resize(img,(32,32))\n",
    "print(img)\n",
    "img = np.reshape(img,[1,32,32,1])\n",
    "\n",
    "classes = final_model.predict_classes(img)\n",
    "\n",
    "print(classes)"
   ]
  },
  {
   "cell_type": "code",
   "execution_count": null,
   "id": "loved-uncle",
   "metadata": {},
   "outputs": [],
   "source": []
  }
 ],
 "metadata": {
  "kernelspec": {
   "display_name": "Python 3",
   "language": "python",
   "name": "python3"
  },
  "language_info": {
   "codemirror_mode": {
    "name": "ipython",
    "version": 3
   },
   "file_extension": ".py",
   "mimetype": "text/x-python",
   "name": "python",
   "nbconvert_exporter": "python",
   "pygments_lexer": "ipython3",
   "version": "3.8.5"
  }
 },
 "nbformat": 4,
 "nbformat_minor": 5
}
